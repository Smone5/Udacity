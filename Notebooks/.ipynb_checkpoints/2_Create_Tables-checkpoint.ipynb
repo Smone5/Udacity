{
 "cells": [
  {
   "cell_type": "markdown",
   "metadata": {
    "editable": true
   },
   "source": [
    "# Create Tables in Redshift"
   ]
  },
  {
   "cell_type": "code",
   "execution_count": 1,
   "metadata": {
    "editable": true
   },
   "outputs": [
    {
     "name": "stdout",
     "output_type": "stream",
     "text": [
      "Collecting s3fs\n",
      "  Downloading https://files.pythonhosted.org/packages/b8/e4/b8fc59248399d2482b39340ec9be4bb2493846ac23641b43115a7e5cd675/s3fs-0.4.2-py3-none-any.whl\n",
      "Collecting fsspec>=0.6.0 (from s3fs)\n",
      "\u001b[?25l  Downloading https://files.pythonhosted.org/packages/0f/31/f27a81686b2f1b2f6776bd5db10efc7d88f28a50e8888f55409ef6501a50/fsspec-0.7.4-py3-none-any.whl (75kB)\n",
      "\u001b[K    100% |████████████████████████████████| 81kB 5.1MB/s ta 0:00:011\n",
      "\u001b[?25hCollecting botocore>=1.12.91 (from s3fs)\n",
      "\u001b[?25l  Downloading https://files.pythonhosted.org/packages/3a/12/2b993a5a67148454404e4e50238a23df67e28eaa7d9701580b5c9ed6ad1b/botocore-1.16.18-py2.py3-none-any.whl (6.2MB)\n",
      "\u001b[K    100% |████████████████████████████████| 6.2MB 5.1MB/s eta 0:00:01    24% |███████▉                        | 1.5MB 20.6MB/s eta 0:00:01    96% |███████████████████████████████ | 6.0MB 34.9MB/s eta 0:00:01\n",
      "\u001b[?25hRequirement already satisfied: jmespath<1.0.0,>=0.7.1 in /opt/conda/lib/python3.6/site-packages (from botocore>=1.12.91->s3fs) (0.9.3)\n",
      "Requirement already satisfied: urllib3<1.26,>=1.20; python_version != \"3.4\" in /opt/conda/lib/python3.6/site-packages (from botocore>=1.12.91->s3fs) (1.22)\n",
      "Requirement already satisfied: docutils<0.16,>=0.10 in /opt/conda/lib/python3.6/site-packages (from botocore>=1.12.91->s3fs) (0.14)\n",
      "Requirement already satisfied: python-dateutil<3.0.0,>=2.1 in /opt/conda/lib/python3.6/site-packages (from botocore>=1.12.91->s3fs) (2.6.1)\n",
      "Requirement already satisfied: six>=1.5 in /opt/conda/lib/python3.6/site-packages (from python-dateutil<3.0.0,>=2.1->botocore>=1.12.91->s3fs) (1.11.0)\n",
      "\u001b[31mboto3 1.9.7 has requirement botocore<1.13.0,>=1.12.7, but you'll have botocore 1.16.18 which is incompatible.\u001b[0m\n",
      "\u001b[31mawscli 1.16.17 has requirement botocore==1.12.7, but you'll have botocore 1.16.18 which is incompatible.\u001b[0m\n",
      "Installing collected packages: fsspec, botocore, s3fs\n",
      "  Found existing installation: botocore 1.12.7\n",
      "    Uninstalling botocore-1.12.7:\n",
      "      Successfully uninstalled botocore-1.12.7\n",
      "Successfully installed botocore-1.16.18 fsspec-0.7.4 s3fs-0.4.2\n"
     ]
    }
   ],
   "source": [
    "# Install library for viewing the data from S3 in pandas\n",
    "!pip install s3fs"
   ]
  },
  {
   "cell_type": "code",
   "execution_count": 2,
   "metadata": {
    "editable": true
   },
   "outputs": [],
   "source": [
    "# General libraries for notebook\n",
    "import pandas as pd\n",
    "import configparser\n",
    "import psycopg2\n",
    "import os\n"
   ]
  },
  {
   "cell_type": "code",
   "execution_count": 3,
   "metadata": {
    "editable": true
   },
   "outputs": [
    {
     "data": {
      "text/html": [
       "<div>\n",
       "<style scoped>\n",
       "    .dataframe tbody tr th:only-of-type {\n",
       "        vertical-align: middle;\n",
       "    }\n",
       "\n",
       "    .dataframe tbody tr th {\n",
       "        vertical-align: top;\n",
       "    }\n",
       "\n",
       "    .dataframe thead th {\n",
       "        text-align: right;\n",
       "    }\n",
       "</style>\n",
       "<table border=\"1\" class=\"dataframe\">\n",
       "  <thead>\n",
       "    <tr style=\"text-align: right;\">\n",
       "      <th></th>\n",
       "      <th>artist_id</th>\n",
       "      <th>artist_latitude</th>\n",
       "      <th>artist_location</th>\n",
       "      <th>artist_longitude</th>\n",
       "      <th>artist_name</th>\n",
       "      <th>duration</th>\n",
       "      <th>num_songs</th>\n",
       "      <th>song_id</th>\n",
       "      <th>title</th>\n",
       "      <th>year</th>\n",
       "    </tr>\n",
       "  </thead>\n",
       "  <tbody>\n",
       "    <tr>\n",
       "      <th>0</th>\n",
       "      <td>ARJIE2Y1187B994AB7</td>\n",
       "      <td>NaN</td>\n",
       "      <td></td>\n",
       "      <td>NaN</td>\n",
       "      <td>Line Renaud</td>\n",
       "      <td>152.92036</td>\n",
       "      <td>1</td>\n",
       "      <td>SOUPIRU12A6D4FA1E1</td>\n",
       "      <td>Der Kleine Dompfaff</td>\n",
       "      <td>0</td>\n",
       "    </tr>\n",
       "  </tbody>\n",
       "</table>\n",
       "</div>"
      ],
      "text/plain": [
       "            artist_id  artist_latitude artist_location  artist_longitude  \\\n",
       "0  ARJIE2Y1187B994AB7              NaN                               NaN   \n",
       "\n",
       "   artist_name   duration  num_songs             song_id                title  \\\n",
       "0  Line Renaud  152.92036          1  SOUPIRU12A6D4FA1E1  Der Kleine Dompfaff   \n",
       "\n",
       "   year  \n",
       "0     0  "
      ]
     },
     "execution_count": 3,
     "metadata": {},
     "output_type": "execute_result"
    }
   ],
   "source": [
    "# Explore S3 Song Data\n",
    "\n",
    "file_path = 's3://udacity-dend/song_data/A/B/C/TRABCEI128F424C983.json'\n",
    "song_df = pd.read_json(file_path, lines=True)\n",
    "song_df.head()"
   ]
  },
  {
   "cell_type": "code",
   "execution_count": 4,
   "metadata": {
    "editable": true
   },
   "outputs": [
    {
     "name": "stdout",
     "output_type": "stream",
     "text": [
      "<class 'pandas.core.frame.DataFrame'>\n",
      "RangeIndex: 1 entries, 0 to 0\n",
      "Data columns (total 10 columns):\n",
      "artist_id           1 non-null object\n",
      "artist_latitude     0 non-null float64\n",
      "artist_location     1 non-null object\n",
      "artist_longitude    0 non-null float64\n",
      "artist_name         1 non-null object\n",
      "duration            1 non-null float64\n",
      "num_songs           1 non-null int64\n",
      "song_id             1 non-null object\n",
      "title               1 non-null object\n",
      "year                1 non-null int64\n",
      "dtypes: float64(3), int64(2), object(5)\n",
      "memory usage: 160.0+ bytes\n"
     ]
    }
   ],
   "source": [
    "song_df.info()"
   ]
  },
  {
   "cell_type": "code",
   "execution_count": 5,
   "metadata": {
    "editable": true
   },
   "outputs": [
    {
     "data": {
      "text/html": [
       "<div>\n",
       "<style scoped>\n",
       "    .dataframe tbody tr th:only-of-type {\n",
       "        vertical-align: middle;\n",
       "    }\n",
       "\n",
       "    .dataframe tbody tr th {\n",
       "        vertical-align: top;\n",
       "    }\n",
       "\n",
       "    .dataframe thead th {\n",
       "        text-align: right;\n",
       "    }\n",
       "</style>\n",
       "<table border=\"1\" class=\"dataframe\">\n",
       "  <thead>\n",
       "    <tr style=\"text-align: right;\">\n",
       "      <th></th>\n",
       "      <th>artist</th>\n",
       "      <th>auth</th>\n",
       "      <th>firstName</th>\n",
       "      <th>gender</th>\n",
       "      <th>itemInSession</th>\n",
       "      <th>lastName</th>\n",
       "      <th>length</th>\n",
       "      <th>level</th>\n",
       "      <th>location</th>\n",
       "      <th>method</th>\n",
       "      <th>page</th>\n",
       "      <th>registration</th>\n",
       "      <th>sessionId</th>\n",
       "      <th>song</th>\n",
       "      <th>status</th>\n",
       "      <th>ts</th>\n",
       "      <th>userAgent</th>\n",
       "      <th>userId</th>\n",
       "    </tr>\n",
       "  </thead>\n",
       "  <tbody>\n",
       "    <tr>\n",
       "      <th>0</th>\n",
       "      <td>None</td>\n",
       "      <td>Logged In</td>\n",
       "      <td>Celeste</td>\n",
       "      <td>F</td>\n",
       "      <td>0</td>\n",
       "      <td>Williams</td>\n",
       "      <td>NaN</td>\n",
       "      <td>free</td>\n",
       "      <td>Klamath Falls, OR</td>\n",
       "      <td>GET</td>\n",
       "      <td>Home</td>\n",
       "      <td>1.541078e+12</td>\n",
       "      <td>438</td>\n",
       "      <td>None</td>\n",
       "      <td>200</td>\n",
       "      <td>1541990217796</td>\n",
       "      <td>\"Mozilla/5.0 (Windows NT 6.1; WOW64) AppleWebK...</td>\n",
       "      <td>53</td>\n",
       "    </tr>\n",
       "    <tr>\n",
       "      <th>1</th>\n",
       "      <td>Pavement</td>\n",
       "      <td>Logged In</td>\n",
       "      <td>Sylvie</td>\n",
       "      <td>F</td>\n",
       "      <td>0</td>\n",
       "      <td>Cruz</td>\n",
       "      <td>99.16036</td>\n",
       "      <td>free</td>\n",
       "      <td>Washington-Arlington-Alexandria, DC-VA-MD-WV</td>\n",
       "      <td>PUT</td>\n",
       "      <td>NextSong</td>\n",
       "      <td>1.540266e+12</td>\n",
       "      <td>345</td>\n",
       "      <td>Mercy:The Laundromat</td>\n",
       "      <td>200</td>\n",
       "      <td>1541990258796</td>\n",
       "      <td>\"Mozilla/5.0 (Macintosh; Intel Mac OS X 10_9_4...</td>\n",
       "      <td>10</td>\n",
       "    </tr>\n",
       "    <tr>\n",
       "      <th>2</th>\n",
       "      <td>Barry Tuckwell/Academy of St Martin-in-the-Fie...</td>\n",
       "      <td>Logged In</td>\n",
       "      <td>Celeste</td>\n",
       "      <td>F</td>\n",
       "      <td>1</td>\n",
       "      <td>Williams</td>\n",
       "      <td>277.15873</td>\n",
       "      <td>free</td>\n",
       "      <td>Klamath Falls, OR</td>\n",
       "      <td>PUT</td>\n",
       "      <td>NextSong</td>\n",
       "      <td>1.541078e+12</td>\n",
       "      <td>438</td>\n",
       "      <td>Horn Concerto No. 4 in E flat K495: II. Romanc...</td>\n",
       "      <td>200</td>\n",
       "      <td>1541990264796</td>\n",
       "      <td>\"Mozilla/5.0 (Windows NT 6.1; WOW64) AppleWebK...</td>\n",
       "      <td>53</td>\n",
       "    </tr>\n",
       "  </tbody>\n",
       "</table>\n",
       "</div>"
      ],
      "text/plain": [
       "                                              artist       auth firstName  \\\n",
       "0                                               None  Logged In   Celeste   \n",
       "1                                           Pavement  Logged In    Sylvie   \n",
       "2  Barry Tuckwell/Academy of St Martin-in-the-Fie...  Logged In   Celeste   \n",
       "\n",
       "  gender  itemInSession  lastName     length level  \\\n",
       "0      F              0  Williams        NaN  free   \n",
       "1      F              0      Cruz   99.16036  free   \n",
       "2      F              1  Williams  277.15873  free   \n",
       "\n",
       "                                       location method      page  \\\n",
       "0                             Klamath Falls, OR    GET      Home   \n",
       "1  Washington-Arlington-Alexandria, DC-VA-MD-WV    PUT  NextSong   \n",
       "2                             Klamath Falls, OR    PUT  NextSong   \n",
       "\n",
       "   registration  sessionId                                               song  \\\n",
       "0  1.541078e+12        438                                               None   \n",
       "1  1.540266e+12        345                               Mercy:The Laundromat   \n",
       "2  1.541078e+12        438  Horn Concerto No. 4 in E flat K495: II. Romanc...   \n",
       "\n",
       "   status             ts                                          userAgent  \\\n",
       "0     200  1541990217796  \"Mozilla/5.0 (Windows NT 6.1; WOW64) AppleWebK...   \n",
       "1     200  1541990258796  \"Mozilla/5.0 (Macintosh; Intel Mac OS X 10_9_4...   \n",
       "2     200  1541990264796  \"Mozilla/5.0 (Windows NT 6.1; WOW64) AppleWebK...   \n",
       "\n",
       "  userId  \n",
       "0     53  \n",
       "1     10  \n",
       "2     53  "
      ]
     },
     "execution_count": 5,
     "metadata": {},
     "output_type": "execute_result"
    }
   ],
   "source": [
    "# Explore S3 Log Data\n",
    "\n",
    "file_path = 's3://udacity-dend/log_data/2018/11/2018-11-12-events.json'\n",
    "log_df = pd.read_json(file_path, lines=True)\n",
    "log_df.head(3)\n"
   ]
  },
  {
   "cell_type": "code",
   "execution_count": 6,
   "metadata": {
    "editable": true
   },
   "outputs": [
    {
     "name": "stdout",
     "output_type": "stream",
     "text": [
      "<class 'pandas.core.frame.DataFrame'>\n",
      "RangeIndex: 213 entries, 0 to 212\n",
      "Data columns (total 18 columns):\n",
      "artist           166 non-null object\n",
      "auth             213 non-null object\n",
      "firstName        205 non-null object\n",
      "gender           205 non-null object\n",
      "itemInSession    213 non-null int64\n",
      "lastName         205 non-null object\n",
      "length           166 non-null float64\n",
      "level            213 non-null object\n",
      "location         205 non-null object\n",
      "method           213 non-null object\n",
      "page             213 non-null object\n",
      "registration     205 non-null float64\n",
      "sessionId        213 non-null int64\n",
      "song             166 non-null object\n",
      "status           213 non-null int64\n",
      "ts               213 non-null int64\n",
      "userAgent        205 non-null object\n",
      "userId           213 non-null object\n",
      "dtypes: float64(2), int64(4), object(12)\n",
      "memory usage: 30.0+ KB\n"
     ]
    }
   ],
   "source": [
    "log_df.info()"
   ]
  },
  {
   "cell_type": "markdown",
   "metadata": {
    "editable": true
   },
   "source": [
    "### Create Schema for Staging Tables\n",
    "<img src=\"images/sparkify_staging_tables2.png\" width=\"80%\" />"
   ]
  },
  {
   "cell_type": "code",
   "execution_count": null,
   "metadata": {
    "editable": true
   },
   "outputs": [],
   "source": [
    "# move up one directory for config files\n",
    "os.chdir('..')\n",
    "os.getcwd()"
   ]
  },
  {
   "cell_type": "code",
   "execution_count": 7,
   "metadata": {
    "editable": true
   },
   "outputs": [],
   "source": [
    "# Connect to redshift database\n",
    "\n",
    "config = configparser.ConfigParser()\n",
    "config.read('dwh.cfg')\n",
    "    \n",
    "host = config['CLUSTER']['DB_ENDPOINT']\n",
    "dbname = config['CLUSTER']['DB_NAME']\n",
    "user = config['CLUSTER']['DB_USER']\n",
    "password = config['CLUSTER']['DB_PASSWORD']\n",
    "port = config['CLUSTER']['DB_PORT']\n",
    "\n",
    "conn = psycopg2.connect(\"host={} dbname={} user={} password={} port={}\".format(host, dbname, user, password, port))\n",
    "cur = conn.cursor()"
   ]
  },
  {
   "cell_type": "code",
   "execution_count": 8,
   "metadata": {
    "editable": true
   },
   "outputs": [],
   "source": [
    "# Drop tables if exist\n",
    "\n",
    "staging_events_table_drop = \"DROP TABLE IF EXISTS event_stage;\"\n",
    "staging_songs_table_drop = \"DROP TABLE IF EXISTS song_stage;\"\n",
    "songplay_table_drop = \"DROP TABLE IF EXISTS fact_songplay;\"\n",
    "user_table_drop = \"DROP TABLE IF EXISTS dim_user;\"\n",
    "song_table_drop = \"DROP TABLE IF EXISTS dim_song;\"\n",
    "artist_table_drop = \"DROP TABLE IF EXISTS dim_artist;\"\n",
    "time_table_drop = \"DROP TABLE IF EXISTS dim_time;\"\n",
    "\n",
    "drop_table_queries = [staging_events_table_drop, staging_songs_table_drop, songplay_table_drop, user_table_drop, song_table_drop, artist_table_drop, time_table_drop]\n",
    "\n",
    "for query in drop_table_queries:\n",
    "    cur.execute(query)\n",
    "    conn.commit()\n",
    "\n"
   ]
  },
  {
   "cell_type": "markdown",
   "metadata": {
    "editable": true
   },
   "source": [
    "### Fact & Dimension Table Schema"
   ]
  },
  {
   "cell_type": "markdown",
   "metadata": {
    "editable": true
   },
   "source": [
    "<img src=\"images/star_schema4.png\" width=\"100%\" />"
   ]
  },
  {
   "cell_type": "code",
   "execution_count": 11,
   "metadata": {
    "editable": true
   },
   "outputs": [],
   "source": [
    "# Create Fact and Dimension Tables Queries\n",
    "\n",
    "staging_events_table_create= (\"\"\"\n",
    "CREATE TABLE \"event_stage\" (\n",
    "  \"artist\" varchar,\n",
    "  \"auth\" varchar,\n",
    "  \"firstName\" varchar,\n",
    "  \"gender\" varchar(4),\n",
    "  \"itemInSession\" varchar,\n",
    "  \"lastName\" varchar,\n",
    "  \"length\" varchar,\n",
    "  \"level\" varchar,\n",
    "  \"location\" varchar,\n",
    "  \"method\" varchar,\n",
    "  \"page\" varchar,\n",
    "  \"registration\" varchar,\n",
    "  \"sessionId\" varchar,\n",
    "  \"song\" varchar,\n",
    "  \"status\" varchar,\n",
    "  \"ts\" varchar,\n",
    "  \"userAgent\" varchar,\n",
    "  \"userId\" varchar\n",
    ");\n",
    "\"\"\")\n",
    "\n",
    "staging_songs_table_create = (\"\"\"\n",
    "CREATE TABLE \"song_stage\" (\n",
    "  \"artist_id\" varchar PRIMARY KEY,\n",
    "  \"artist_latitude\" varchar,\n",
    "  \"artist_location\" varchar,\n",
    "  \"artist_longitude\" varchar,\n",
    "  \"artist_name\" varchar,\n",
    "  \"duration\" varchar,\n",
    "  \"num_songs\" varchar,\n",
    "  \"song_id\" varchar,\n",
    "  \"title\" varchar,\n",
    "  \"year\" varchar\n",
    ");\n",
    "\"\"\")\n",
    "\n",
    "songplay_table_create = (\"\"\"\n",
    "CREATE TABLE \"fact_songplay\" (\n",
    "  \"songplay_id\" varchar PRIMARY KEY,\n",
    "  \"start_time\" bigint NOT NULL,\n",
    "  \"user_id\" int NOT NULL,\n",
    "  \"level\" varchar NOT NULL,\n",
    "  \"song_id\" varchar,\n",
    "  \"artist_id\" varchar,\n",
    "  \"session_id\" int,\n",
    "  \"location\" varchar,\n",
    "  \"user_agent\" varchar\n",
    ");\n",
    "\"\"\")\n",
    "\n",
    "user_table_create = (\"\"\"\n",
    "CREATE TABLE \"dim_user\" (\n",
    "  \"user_id\" int NOT NULL sortkey,\n",
    "  \"first_name\" varchar,\n",
    "  \"last_name\" varchar,\n",
    "  \"gender\" varchar,\n",
    "  \"level\" varchar NOT NULL\n",
    ");\n",
    "\"\"\")\n",
    "\n",
    "song_table_create = (\"\"\"\n",
    "CREATE TABLE \"dim_song\" (\n",
    "  \"song_id\" varchar NOT NULL sortkey,\n",
    "  \"title\" varchar NOT NULL,\n",
    "  \"artist_id\" varchar,\n",
    "  \"year\" int,\n",
    "  \"duration\" float8\n",
    ");\n",
    "\"\"\")\n",
    "\n",
    "artist_table_create = (\"\"\"\n",
    "CREATE TABLE \"dim_artist\" (\n",
    "  \"artist_id\" varchar NOT NULL sortkey,\n",
    "  \"name\" varchar NOT NULL,\n",
    "  \"location\" varchar,\n",
    "  \"latitude\" float8,\n",
    "  \"longitude\" float8\n",
    ");\n",
    "\"\"\")\n",
    "\n",
    "time_table_create = (\"\"\"\n",
    "CREATE TABLE \"dim_time\" (\n",
    "  \"time_key\" bigint NOT NULL sortkey,  \n",
    "  \"start_time\" timestamp NOT NULL,\n",
    "  \"hour\" int NOT NULL,\n",
    "  \"day\" int NOT NULL,\n",
    "  \"week\" int NOT NULL,\n",
    "  \"month\" int NOT NULL,\n",
    "  \"year\" int NOT NULL,\n",
    "  \"weekday\" varchar NOT NULL\n",
    ");\n",
    "\"\"\")\n"
   ]
  },
  {
   "cell_type": "code",
   "execution_count": 12,
   "metadata": {
    "editable": true
   },
   "outputs": [],
   "source": [
    "# Create Tables Execution\n",
    "\n",
    "create_table_queries = [staging_events_table_create, staging_songs_table_create, songplay_table_create, user_table_create, song_table_create, artist_table_create, time_table_create]\n",
    "for query in create_table_queries:\n",
    "        cur.execute(query)\n",
    "        conn.commit()"
   ]
  },
  {
   "cell_type": "code",
   "execution_count": null,
   "metadata": {
    "editable": true
   },
   "outputs": [],
   "source": []
  }
 ],
 "metadata": {
  "kernelspec": {
   "display_name": "Python 3",
   "language": "python",
   "name": "python3"
  },
  "language_info": {
   "codemirror_mode": {
    "name": "ipython",
    "version": 3
   },
   "file_extension": ".py",
   "mimetype": "text/x-python",
   "name": "python",
   "nbconvert_exporter": "python",
   "pygments_lexer": "ipython3",
   "version": "3.6.3"
  }
 },
 "nbformat": 4,
 "nbformat_minor": 4
}
