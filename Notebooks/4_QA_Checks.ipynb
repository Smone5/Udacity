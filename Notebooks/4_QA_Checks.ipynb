{
 "cells": [
  {
   "cell_type": "code",
   "execution_count": 1,
   "metadata": {
    "editable": true
   },
   "outputs": [],
   "source": [
    "import pandas as pd\n",
    "import configparser\n",
    "import psycopg2\n",
    "import os"
   ]
  },
  {
   "cell_type": "code",
   "execution_count": null,
   "metadata": {
    "editable": true
   },
   "outputs": [],
   "source": [
    "# move up one directory for config files\n",
    "os.chdir('..')\n",
    "os.getcwd()"
   ]
  },
  {
   "cell_type": "code",
   "execution_count": null,
   "metadata": {
    "editable": true
   },
   "outputs": [],
   "source": [
    "config = configparser.ConfigParser()\n",
    "config.read('dwh.cfg')\n",
    "    \n",
    "host = config['CLUSTER']['DB_ENDPOINT']\n",
    "dbname = config['CLUSTER']['DB_NAME']\n",
    "user = config['CLUSTER']['DB_USER']\n",
    "password = config['CLUSTER']['DB_PASSWORD']\n",
    "port = config['CLUSTER']['DB_PORT']\n",
    "\n",
    "conn = psycopg2.connect(\"host={} dbname={} user={} password={} port={}\".format(host, dbname, user, password, port))\n",
    "cur = conn.cursor()"
   ]
  },
  {
   "cell_type": "code",
   "execution_count": null,
   "metadata": {
    "editable": true
   },
   "outputs": [],
   "source": [
    "table_names = ['dim_user', 'dim_song', 'dim_artist', 'dim_time', 'fact_sonplay']"
   ]
  },
  {
   "cell_type": "code",
   "execution_count": null,
   "metadata": {
    "editable": true
   },
   "outputs": [],
   "source": [
    "# Create Row Count Check Queries\n",
    "\n",
    "user_table_count = ('''\n",
    "SELECT Count(*)\n",
    "FROM dim_user\n",
    ";\n",
    "''')\n",
    "\n",
    "song_table_count = ('''\n",
    "SELECT Count(*)\n",
    "FROM dim_song\n",
    ";\n",
    "''')\n",
    "\n",
    "artist_table_count =('''\n",
    "SELECT Count(*)\n",
    "FROM dim_artist\n",
    ";\n",
    "''')\n",
    "\n",
    "time_table_count = ('''\n",
    "SELECT Count(*)\n",
    "FROM dim_time\n",
    ";\n",
    "''')\n",
    "\n",
    "\n",
    "fact_table_count = ('''\n",
    "SELECT Count(*)\n",
    "FROM fact_songplay\n",
    ";\n",
    "''')"
   ]
  },
  {
   "cell_type": "code",
   "execution_count": null,
   "metadata": {
    "editable": true
   },
   "outputs": [],
   "source": [
    "# Execute Row Count Check Queries\n",
    "\n",
    "count_rows_queries = [user_table_count, song_table_count, artist_table_count, time_table_count]\n",
    "for i in range(len(count_rows_queries)):\n",
    "        print(\"Check Row Count Table {}\".format(table_names[i]))\n",
    "        cur.execute(query[i])\n",
    "        conn.commit()"
   ]
  },
  {
   "cell_type": "code",
   "execution_count": null,
   "metadata": {
    "editable": true
   },
   "outputs": [],
   "source": [
    "# Create Duplication Check Queries\n",
    "\n",
    "user_table_dups = ('''\n",
    "SELECT user_id, first_name, last_name, level, COUNT(*)\n",
    "FROM sparkify.dim_user\n",
    "GROUP BY user_id, first_name, last_name, level\n",
    "ORDER BY COUNT(*) DESC\n",
    "LIMIT 5\n",
    ";\n",
    "''')\n",
    "\n",
    "song_table_dups = ('''\n",
    "SELECT\n",
    "    s.song_id,\n",
    "    s.title,\n",
    "    COUNT(*)\n",
    "FROM dim_song s\n",
    "GROUP BY s.song_id, s.title\n",
    "ORDER BY COUNT(*) DESC\n",
    "LIMIT 5;\n",
    "''')\n",
    "\n",
    "artist_table_dups =('''\n",
    "SELECT\n",
    "    a.artist_id,\n",
    "    a.name,\n",
    "    COUNT(*)\n",
    "FROM dim_artist a\n",
    "GROUP BY a.artist_id, a.name\n",
    "ORDER BY COUNT(*) DESC\n",
    "LIMIT 5;\n",
    "''')\n",
    "\n",
    "time_table_dups = ('''\n",
    "SELECT\n",
    "    t.time_key,\n",
    "    COUNT(*)\n",
    "FROM dim_time t\n",
    "GROUP BY t.time_key\n",
    "ORDER BY COUNT(*) DESC\n",
    "LIMIT 5;\n",
    "''')\n",
    "\n"
   ]
  },
  {
   "cell_type": "code",
   "execution_count": 2,
   "metadata": {
    "editable": true
   },
   "outputs": [
    {
     "ename": "NameError",
     "evalue": "name 'user_table_dups' is not defined",
     "output_type": "error",
     "traceback": [
      "\u001b[0;31m---------------------------------------------------------------------------\u001b[0m",
      "\u001b[0;31mNameError\u001b[0m                                 Traceback (most recent call last)",
      "\u001b[0;32m<ipython-input-2-162d46d2e507>\u001b[0m in \u001b[0;36m<module>\u001b[0;34m()\u001b[0m\n\u001b[1;32m     18\u001b[0m \u001b[0;34m\u001b[0m\u001b[0m\n\u001b[1;32m     19\u001b[0m \u001b[0;34m\u001b[0m\u001b[0m\n\u001b[0;32m---> 20\u001b[0;31m \u001b[0mcheck_duplicate_queries\u001b[0m \u001b[0;34m=\u001b[0m \u001b[0;34m[\u001b[0m\u001b[0muser_table_dups\u001b[0m\u001b[0;34m]\u001b[0m\u001b[0;34m\u001b[0m\u001b[0m\n\u001b[0m\u001b[1;32m     21\u001b[0m \u001b[0;34m\u001b[0m\u001b[0m\n\u001b[1;32m     22\u001b[0m \u001b[0;34m\u001b[0m\u001b[0m\n",
      "\u001b[0;31mNameError\u001b[0m: name 'user_table_dups' is not defined"
     ]
    }
   ],
   "source": [
    "# Execute Duplication Check Queries\n",
    "\n",
    "# Function\n",
    "## Inputs a query, sql connection and table name\n",
    "## Ouputs if query producted duplicates or not with statement\n",
    "def check_duplicates(query, conn, table):\n",
    "\n",
    "    count_df = pd.read_sql(query, conn)\n",
    "    count_s = count_df['count']\n",
    "    total_count = 0\n",
    "    for val in count_s:\n",
    "        if val == 1:\n",
    "            total_count += 0\n",
    "        \n",
    "    if total_count > 0:\n",
    "        return(print(\"Rows duplicated in table {}\".format(table)))\n",
    "        \n",
    "    else:\n",
    "        return(print(\"No rows duplicated in table {}\".format(table)))\n",
    "    \n",
    "\n",
    "check_duplicate_queries = [user_table_dups, song_table_dups, artist_table_dups, time_table_dups]\n",
    "\n",
    "duplicate_check_queries = [user_table_count, song_table_count, artist_table_count, time_table_count]\n",
    "for i in range(len(duplicate_check_queries)):\n",
    "        print(\"Check Row Count Table {}\".format(table_names[i]))\n",
    "        cur.execute(query[i])\n",
    "        conn.commit()\n"
   ]
  },
  {
   "cell_type": "code",
   "execution_count": null,
   "metadata": {
    "editable": true
   },
   "outputs": [],
   "source": []
  }
 ],
 "metadata": {
  "kernelspec": {
   "display_name": "Python 3",
   "language": "python",
   "name": "python3"
  },
  "language_info": {
   "codemirror_mode": {
    "name": "ipython",
    "version": 3
   },
   "file_extension": ".py",
   "mimetype": "text/x-python",
   "name": "python",
   "nbconvert_exporter": "python",
   "pygments_lexer": "ipython3",
   "version": "3.6.3"
  }
 },
 "nbformat": 4,
 "nbformat_minor": 4
}
